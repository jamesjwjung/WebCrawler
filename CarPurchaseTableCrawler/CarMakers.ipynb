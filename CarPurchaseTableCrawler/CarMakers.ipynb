{
 "cells": [
  {
   "cell_type": "markdown",
   "metadata": {},
   "source": [
    "# CharPrice사이트에서 제공하는 차량가격표 크롤러><"
   ]
  },
  {
   "cell_type": "code",
   "execution_count": 27,
   "metadata": {},
   "outputs": [],
   "source": [
    "import requests\n",
    "import urllib.request\n",
    "from bs4 import BeautifulSoup\n",
    "from selenium import webdriver\n",
    "from time import sleep\n",
    "from urllib.request import Request, urlopen\n",
    "import os\n",
    "import shutil\n",
    "\n",
    "driver = webdriver.Chrome('C:/Users/G00085/Desktop/Macro/chromedriver.exe')"
   ]
  },
  {
   "cell_type": "markdown",
   "metadata": {},
   "source": [
    "### 카메커별 Folder 생성\n",
    "    - 현대\n",
    "    - 제네시스\n",
    "    - 기아\n",
    "    - GM\n",
    "    - 르노\n",
    "    - 쌍용"
   ]
  },
  {
   "cell_type": "code",
   "execution_count": null,
   "metadata": {},
   "outputs": [],
   "source": [
    "CarMakers = ['hyundai', 'genesis', 'kia', 'gm', 'renault', 'ssangyong']\n",
    "#카메이커 대분류 폴더 생성\n",
    "os.chdir('C:/Users/G00085/Desktop/Trim')\n",
    "for CarMaker in CarMakers:\n",
    "    try:\n",
    "        os.mkdir(CarMaker)\n",
    "    except FileExistsError:\n",
    "        pass"
   ]
  },
  {
   "cell_type": "markdown",
   "metadata": {},
   "source": [
    "### 주소 구조에 따른 스크래핑\n",
    "    http://chaprice.co.kr/bbs/board.php?bo_table='+CarMaker+'&wr_id='+str(cycle2)\n",
    "                                                      ↓                   ↓ \n",
    "                                                   카메이커      카메이커별 차량구매표 게시물 번호"
   ]
  },
  {
   "cell_type": "code",
   "execution_count": 2,
   "metadata": {
    "collapsed": true
   },
   "outputs": [
    {
     "ename": "NameError",
     "evalue": "name 'CarMakers' is not defined",
     "output_type": "error",
     "traceback": [
      "\u001b[1;31m---------------------------------------------------------------------------\u001b[0m",
      "\u001b[1;31mNameError\u001b[0m                                 Traceback (most recent call last)",
      "\u001b[1;32m<ipython-input-2-5f96237ee178>\u001b[0m in \u001b[0;36m<module>\u001b[1;34m\u001b[0m\n\u001b[1;32m----> 1\u001b[1;33m \u001b[1;32mfor\u001b[0m \u001b[0mCarMaker\u001b[0m \u001b[1;32min\u001b[0m \u001b[0mCarMakers\u001b[0m\u001b[1;33m:\u001b[0m\u001b[1;33m\u001b[0m\u001b[1;33m\u001b[0m\u001b[0m\n\u001b[0m\u001b[0;32m      2\u001b[0m     \u001b[1;32mfor\u001b[0m \u001b[0mcycle2\u001b[0m \u001b[1;32min\u001b[0m \u001b[0mrange\u001b[0m\u001b[1;33m(\u001b[0m\u001b[1;36m0\u001b[0m\u001b[1;33m,\u001b[0m \u001b[1;36m800\u001b[0m\u001b[1;33m)\u001b[0m\u001b[1;33m:\u001b[0m\u001b[1;33m\u001b[0m\u001b[1;33m\u001b[0m\u001b[0m\n\u001b[0;32m      3\u001b[0m         \u001b[0mreq\u001b[0m \u001b[1;33m=\u001b[0m \u001b[0mrequests\u001b[0m\u001b[1;33m.\u001b[0m\u001b[0mget\u001b[0m\u001b[1;33m(\u001b[0m\u001b[1;34m'http://chaprice.co.kr/bbs/board.php?bo_table='\u001b[0m\u001b[1;33m+\u001b[0m\u001b[0mCarMaker\u001b[0m\u001b[1;33m+\u001b[0m\u001b[1;34m'&wr_id='\u001b[0m\u001b[1;33m+\u001b[0m\u001b[0mstr\u001b[0m\u001b[1;33m(\u001b[0m\u001b[0mcycle2\u001b[0m\u001b[1;33m)\u001b[0m\u001b[1;33m)\u001b[0m\u001b[1;33m\u001b[0m\u001b[1;33m\u001b[0m\u001b[0m\n\u001b[0;32m      4\u001b[0m         \u001b[0mhtml\u001b[0m \u001b[1;33m=\u001b[0m \u001b[0mreq\u001b[0m\u001b[1;33m.\u001b[0m\u001b[0mtext\u001b[0m\u001b[1;33m\u001b[0m\u001b[1;33m\u001b[0m\u001b[0m\n\u001b[0;32m      5\u001b[0m         \u001b[0msoup\u001b[0m \u001b[1;33m=\u001b[0m \u001b[0mBeautifulSoup\u001b[0m\u001b[1;33m(\u001b[0m\u001b[0mhtml\u001b[0m\u001b[1;33m,\u001b[0m \u001b[1;34m'html.parser'\u001b[0m\u001b[1;33m)\u001b[0m\u001b[1;33m\u001b[0m\u001b[1;33m\u001b[0m\u001b[0m\n",
      "\u001b[1;31mNameError\u001b[0m: name 'CarMakers' is not defined"
     ]
    }
   ],
   "source": [
    "for CarMaker in CarMakers:\n",
    "    for cycle2 in range(0, 800):\n",
    "        req = requests.get('http://chaprice.co.kr/bbs/board.php?bo_table='+CarMaker+'&wr_id='+str(cycle2))\n",
    "        html = req.text\n",
    "        soup = BeautifulSoup(html, 'html.parser')\n",
    "        \n",
    "        for i in soup.select('#bo_v > div.panel-heading > div.pull-left > h6'):\n",
    "            file_name = i.text.strip()\n",
    "\n",
    "        try:\n",
    "            file_name = file_name.replace('/','')\n",
    "        except NameError:\n",
    "            pass\n",
    "        \n",
    "        \n",
    "        kind = soup.select('#bo_v > div.panel-heading > div.pull-left > h6 > span')\n",
    "        \n",
    "        for i in kind:\n",
    "            kinds_folder_name = i.text.strip()\n",
    "\n",
    "        os.chdir('C:/Users/G00085/Desktop/Trim/'+CarMaker)\n",
    "        \n",
    "        try:\n",
    "            os.mkdir(kinds_folder_name)\n",
    "        except FileExistsError:\n",
    "            pass\n",
    "        except NameError:\n",
    "            pass\n",
    "        \n",
    "\n",
    "        kinds_img_links = []\n",
    "        for i in soup.select('#bo_v_img > a > img'):\n",
    "            kinds_img_links.append(i['src'])\n",
    "\n",
    "        print(kinds_img_links)\n",
    "\n",
    "        count = 0\n",
    "        for link in kinds_img_links:\n",
    "            count += 1\n",
    "            response = requests.get(link, stream = True)\n",
    "            with open('C:/Users/G00085/Desktop/Trim/'+CarMaker+\"/\"+kinds_folder_name+\"/\"+file_name+str(count)+'.jpg', 'wb') as out_file:\n",
    "                shutil.copyfileobj(response.raw, out_file)\n",
    "            del response"
   ]
  },
  {
   "cell_type": "code",
   "execution_count": null,
   "metadata": {},
   "outputs": [],
   "source": []
  }
 ],
 "metadata": {
  "kernelspec": {
   "display_name": "Python 3",
   "language": "python",
   "name": "python3"
  },
  "language_info": {
   "codemirror_mode": {
    "name": "ipython",
    "version": 3
   },
   "file_extension": ".py",
   "mimetype": "text/x-python",
   "name": "python",
   "nbconvert_exporter": "python",
   "pygments_lexer": "ipython3",
   "version": "3.8.3"
  }
 },
 "nbformat": 4,
 "nbformat_minor": 4
}
